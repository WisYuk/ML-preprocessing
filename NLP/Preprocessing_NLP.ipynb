{
 "cells": [
  {
   "cell_type": "markdown",
   "metadata": {},
   "source": [
    "Dataset\n",
    "- https://www.kaggle.com/datasets/dzzlr07/absa-natural-tourist-attractions-review/data"
   ]
  },
  {
   "cell_type": "code",
   "execution_count": null,
   "metadata": {},
   "outputs": [],
   "source": [
    "!pip install deep-translator\n",
    "!pip install datasets"
   ]
  },
  {
   "cell_type": "code",
   "execution_count": null,
   "metadata": {},
   "outputs": [],
   "source": [
    "from deep_translator import GoogleTranslator\n",
    "import pandas as pd\n",
    "import numpy as np\n",
    "import re"
   ]
  },
  {
   "cell_type": "markdown",
   "metadata": {},
   "source": [
    "Load dataset"
   ]
  },
  {
   "cell_type": "code",
   "execution_count": null,
   "metadata": {},
   "outputs": [],
   "source": [
    "df = pd.read_csv('tourist_reviews.csv')"
   ]
  },
  {
   "cell_type": "markdown",
   "metadata": {},
   "source": [
    "Function Determine Sentiment"
   ]
  },
  {
   "cell_type": "code",
   "execution_count": null,
   "metadata": {},
   "outputs": [],
   "source": [
    "def determine_sentiment(rating, accessibility, activity, facility):\n",
    "    if rating >= 4:\n",
    "        if accessibility == 'negative':\n",
    "            return 'negative'\n",
    "        if activity == 'negative':\n",
    "            return 'negative'\n",
    "        if facility == 'negative':\n",
    "            return 'negative'\n",
    "        if facility == 'neutral' and activity == 'neutral' and accessibility == 'neutral':\n",
    "            return 'negative'\n",
    "        return 'positive'\n",
    "    elif rating <= 3:\n",
    "        return 'negative'"
   ]
  },
  {
   "cell_type": "markdown",
   "metadata": {},
   "source": [
    "Cleaning dataset"
   ]
  },
  {
   "cell_type": "code",
   "execution_count": null,
   "metadata": {},
   "outputs": [],
   "source": [
    "df = df.drop('id', axis=1)\n",
    "df = df.drop('datetime', axis=1)\n",
    "df = df.drop('location', axis=1)\n",
    "\n",
    "df['sentiment'] = df[['rating', 'accessibility', 'activity', 'facility']].apply(lambda row: determine_sentiment(*row), axis=1)\n",
    "\n",
    "df = df.drop('rating', axis=1)\n",
    "df = df.drop('accessibility', axis=1)\n",
    "df = df.drop('facility', axis=1)\n",
    "df = df.drop('activity', axis=1)\n",
    "\n",
    "df_sampled = df.groupby('sentiment').apply(lambda x: x.sample(n=100)).reset_index(drop=True) # only add 1000 positive and 1000 negative\n",
    "df_sampled = df_sampled.sample(frac=1).reset_index(drop=True) # randomized\n",
    "df_clean_dataset = df_sampled.rename(columns={'text': 'reviews_content', 'sentiment': 'category'})\n",
    "df_sampled.to_csv('tourist_reviews_clean.csv', index=False)\n"
   ]
  },
  {
   "cell_type": "markdown",
   "metadata": {},
   "source": [
    "Translated Dataset to English"
   ]
  },
  {
   "cell_type": "code",
   "execution_count": null,
   "metadata": {},
   "outputs": [],
   "source": [
    "df1 = pd.read_csv('tourist_reviews_clean.csv')"
   ]
  },
  {
   "cell_type": "code",
   "execution_count": null,
   "metadata": {},
   "outputs": [],
   "source": [
    "from deep_translator import GoogleTranslator\n",
    "\n",
    "def translate_to_english(text):\n",
    "    return GoogleTranslator(source='auto', target='en').translate(text)\n",
    "\n",
    "df1['reviews_content'] = df1['reviews_content'].apply(translate_to_english)\n",
    "\n",
    "df1.to_csv('tourist_reviews_final.csv', index=False)"
   ]
  },
  {
   "cell_type": "markdown",
   "metadata": {},
   "source": [
    "DataTest Model"
   ]
  },
  {
   "cell_type": "code",
   "execution_count": null,
   "metadata": {},
   "outputs": [],
   "source": [
    "# Function to clean the specific noise from the text\n",
    "def clean_text(text):\n",
    "    # Remove remains of emojis\n",
    "    text = re.sub(r'[^\\x00-\\x7F]+', ' ', text)\n",
    "    # Remove remains of user mentions\n",
    "    text = re.sub(r'@\\S+', '', text)\n",
    "    # Remove Twitter links\n",
    "    text = re.sub(r'http\\S+', '', text)\n",
    "    # Remove retweet identifiers\n",
    "    text = re.sub(r'\\bRT\\b', '', text)\n",
    "    text = re.sub(r'\\[RE.*?\\]', '', text)\n",
    "    # Remove HTML entities like &amp;\n",
    "    text = re.sub(r'&\\S+;', '', text)\n",
    "    # Remove hashtags\n",
    "    text = re.sub(r'#\\S+', '', text)\n",
    "    return text"
   ]
  },
  {
   "cell_type": "markdown",
   "metadata": {},
   "source": [
    "Load DataTest"
   ]
  },
  {
   "cell_type": "code",
   "execution_count": null,
   "metadata": {},
   "outputs": [],
   "source": [
    "# read csv\n",
    "df = pd.read_csv('hafiiid.csv')"
   ]
  },
  {
   "cell_type": "code",
   "execution_count": null,
   "metadata": {},
   "outputs": [],
   "source": [
    "df.head()"
   ]
  },
  {
   "cell_type": "code",
   "execution_count": null,
   "metadata": {},
   "outputs": [],
   "source": [
    "# drop row \n",
    "df = df.drop('Place Name', axis=1)\n",
    "df = df.drop('quote_count', axis=1)\n",
    "df = df.drop('favorite_count', axis=1)\n",
    "df = df.drop('reply_count', axis=1)\n",
    "df = df.drop('retweet_count', axis=1)\n",
    "\n",
    "# Convert 'created_at' to datetime\n",
    "df['created_at'] = pd.to_datetime(df['created_at'], format='%a %b %d %H:%M:%S +0000 %Y')\n",
    "\n",
    "# Extract month and create a new column 'month'\n",
    "df['month'] = df['created_at'].dt.month\n",
    "\n",
    "df = df.drop('created_at', axis=1)\n",
    "df = df.sort_values(['id', 'month'])\n",
    "df['reviews_content'] = df['full_text'].apply(clean_text)\n",
    "df = df.drop('full_text', axis=1)\n",
    "df_new1  = df[['reviews_content']]\n",
    "df_new2  = df[['id','month']]\n",
    "\n",
    "# convert to csv\n",
    "df_new1.to_csv('datatest_clean.csv', index=False)\n",
    "df_new2.to_csv('id_month.csv', index=False)"
   ]
  },
  {
   "cell_type": "markdown",
   "metadata": {},
   "source": [
    "Translated DataTest to English"
   ]
  },
  {
   "cell_type": "code",
   "execution_count": null,
   "metadata": {},
   "outputs": [],
   "source": [
    "df1 = pd.read_csv('datatest_clean.csv')"
   ]
  },
  {
   "cell_type": "code",
   "execution_count": null,
   "metadata": {},
   "outputs": [],
   "source": [
    "from deep_translator import GoogleTranslator\n",
    "\n",
    "def translate_to_english(text):\n",
    "    return GoogleTranslator(source='auto', target='en').translate(text)\n",
    "\n",
    "df1['reviews_content'] = df1['reviews_content'].apply(translate_to_english)\n",
    "\n",
    "df1.to_csv('datatest_final.csv', index=False)"
   ]
  }
 ],
 "metadata": {
  "language_info": {
   "name": "python"
  }
 },
 "nbformat": 4,
 "nbformat_minor": 2
}
